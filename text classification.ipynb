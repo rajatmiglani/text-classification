{
 "cells": [
  {
   "cell_type": "code",
   "execution_count": 1,
   "metadata": {},
   "outputs": [
    {
     "name": "stdout",
     "output_type": "stream",
     "text": [
      "[nltk_data] Downloading package stopwords to\n",
      "[nltk_data]     /home/miglani/nltk_data...\n",
      "[nltk_data]   Package stopwords is already up-to-date!\n"
     ]
    },
    {
     "data": {
      "text/plain": [
       "True"
      ]
     },
     "execution_count": 1,
     "metadata": {},
     "output_type": "execute_result"
    }
   ],
   "source": [
    "import numpy as np\n",
    "import pandas as pd\n",
    "import os\n",
    "import nltk"
   ]
  },
  {
   "cell_type": "code",
   "execution_count": 2,
   "metadata": {},
   "outputs": [],
   "source": [
    "from nltk.corpus import stopwords\n",
    "stop_words = set(stopwords.words('english'))"
   ]
  },
  {
   "cell_type": "code",
   "execution_count": 3,
   "metadata": {},
   "outputs": [],
   "source": [
    "block_words = ['newsgroups', 'xref', 'path', 'from', 'subject', 'sender', 'organisation', 'apr','gmt', 'last','better','never','every','even','two','good','used','first','need','going','must','really','might','well','without','made','give','look','try','far','less','seem','new','make','many','way','since','using','take','help','thanks','send','free','may','see','much','want','find','would','one','like','get','use','also','could','say','us','go','please','said','set','got','sure','come','lot','seems','able','anything','put', '--', '|>', '>>', '93', 'xref', 'cantaloupe.srv.cs.cmu.edu', '20', '16', \"max>'ax>'ax>'ax>'ax>'ax>'ax>'ax>'ax>'ax>'ax>'ax>'ax>'ax>'ax>'\", '21', '19', '10', '17', '24', 'reply-to:', 'thu', 'nntp-posting-host:', 're:','25''18'\"i'd\"'>i''22''fri,''23''>the','references:','xref:','sender:','writes:','1993','organization:']"
   ]
  },
  {
   "cell_type": "code",
   "execution_count": 4,
   "metadata": {},
   "outputs": [
    {
     "data": {
      "text/plain": [
       "('a.tar.gz', <http.client.HTTPMessage at 0x7efd584ddda0>)"
      ]
     },
     "execution_count": 4,
     "metadata": {},
     "output_type": "execute_result"
    }
   ],
   "source": [
    "## Download the dataset\n",
    "import urllib.request\n",
    "urllib.request.urlretrieve (\"https://archive.ics.uci.edu/ml/machine-learning-databases/20newsgroups-mld/20_newsgroups.tar.gz\", \"a.tar.gz\")"
   ]
  },
  {
   "cell_type": "code",
   "execution_count": 5,
   "metadata": {},
   "outputs": [],
   "source": [
    "#Extracting the dataset\n",
    "import tarfile\n",
    "tar = tarfile.open(\"a.tar.gz\")\n",
    "tar.extractall()\n",
    "tar.close()"
   ]
  },
  {
   "cell_type": "code",
   "execution_count": 6,
   "metadata": {},
   "outputs": [
    {
     "data": {
      "text/plain": [
       "['talk.religion.misc',\n",
       " 'sci.electronics',\n",
       " 'comp.windows.x',\n",
       " 'talk.politics.mideast',\n",
       " 'soc.religion.christian',\n",
       " 'comp.sys.mac.hardware',\n",
       " 'rec.motorcycles',\n",
       " 'comp.graphics',\n",
       " 'sci.crypt',\n",
       " 'rec.autos',\n",
       " 'rec.sport.baseball',\n",
       " 'talk.politics.misc',\n",
       " 'sci.space',\n",
       " 'misc.forsale',\n",
       " 'rec.sport.hockey',\n",
       " 'comp.os.ms-windows.misc',\n",
       " 'talk.politics.guns',\n",
       " 'comp.sys.ibm.pc.hardware',\n",
       " 'sci.med',\n",
       " 'alt.atheism']"
      ]
     },
     "execution_count": 6,
     "metadata": {},
     "output_type": "execute_result"
    }
   ],
   "source": [
    "##Make a list of the folders in the dataset\n",
    "directory = [f for f in os.listdir('./20_newsgroups') if not f.startswith('.')]\n",
    "directory"
   ]
  },
  {
   "cell_type": "code",
   "execution_count": 7,
   "metadata": {},
   "outputs": [],
   "source": [
    "# Create a dictionary of words with their frequency\n",
    "vocab = {}\n",
    "for i in range(len(directory)):\n",
    "    #Create a list of files in the given dictionary \n",
    "    files = os.listdir('./20_newsgroups/' + directory[i])\n",
    " \n",
    "    for j in range(len(files)):\n",
    "        #Path of each file \n",
    "        path = './20_newsgroups/' + directory[i] + '/' + files[j]\n",
    "        \n",
    "        #open the file and read it\n",
    "        text = open(path, 'r', errors='ignore').read()\n",
    "        \n",
    "        for word in text.split():\n",
    "            if len(word) != 1: \n",
    "                #Check if word is a non stop word or non block word(we have created) only then proceed\n",
    "                if not word.lower() in stop_words:\n",
    "                    if not word.lower() in block_words:     \n",
    "                        #If word is already in dictionary then we just increment its frequency by 1\n",
    "                        if vocab.get(word.lower()) != None:\n",
    "                            vocab[word.lower()] += 1\n",
    "\n",
    "                        #If word is not in dictionary then we put that word in our dictinary by making its frequnecy 1\n",
    "                        else:\n",
    "                            vocab[word.lower()] = 1\n",
    "            \n",
    "# vocab"
   ]
  },
  {
   "cell_type": "code",
   "execution_count": 8,
   "metadata": {},
   "outputs": [],
   "source": [
    "import operator\n",
    "sorted_vocab = sorted(vocab.items(), key= operator.itemgetter(1), reverse= True)\n",
    "# sorted_vocab"
   ]
  },
  {
   "cell_type": "code",
   "execution_count": 9,
   "metadata": {},
   "outputs": [],
   "source": [
    "# Dictionary containing the most occuring k-words.\n",
    "kvocab={}\n",
    "\n",
    "# Frequency of 1000th most occured word\n",
    "z = sorted_vocab[2000][1]\n",
    "\n",
    "for x in sorted_vocab:\n",
    "    kvocab[x[0]] = x[1]\n",
    "    \n",
    "    if x[1] <= z:\n",
    "        break"
   ]
  },
  {
   "cell_type": "code",
   "execution_count": 10,
   "metadata": {},
   "outputs": [
    {
     "data": {
      "text/plain": [
       "[('subject:', 20486),\n",
       " ('from:', 20417),\n",
       " ('date:', 20137),\n",
       " ('newsgroups:', 20081),\n",
       " ('message-id:', 20050),\n",
       " ('lines:', 20042),\n",
       " ('path:', 20029),\n",
       " ('article', 12108),\n",
       " ('people', 8415),\n",
       " ('university', 8203),\n",
       " ('know', 7695),\n",
       " ('think', 7205),\n",
       " (\"i'm\", 5823),\n",
       " ('distribution:', 4406),\n",
       " ('time', 4336),\n",
       " ('it.', 4185),\n",
       " ('anyone', 3976),\n",
       " ('world', 3602),\n",
       " ('right', 3326),\n",
       " ('believe', 3309),\n",
       " ('still', 3290),\n",
       " ('something', 3190),\n",
       " ('computer', 3157),\n",
       " ('system', 3137),\n",
       " (\"i've\", 3114),\n",
       " ('god', 2881),\n",
       " ('15', 2881),\n",
       " ('back', 2840),\n",
       " (\"can't\", 2836),\n",
       " ('news', 2836),\n",
       " ('state', 2787),\n",
       " ('work', 2692),\n",
       " ('>in', 2610),\n",
       " ('someone', 2610),\n",
       " ('government', 2534),\n",
       " ('problem', 2528),\n",
       " ('23', 2522),\n",
       " ('read', 2516),\n",
       " ('another', 2516),\n",
       " ('usa', 2496),\n",
       " ('information', 2480),\n",
       " ('>the', 2452),\n",
       " ('number', 2424),\n",
       " (\"that's\", 2382),\n",
       " ('things', 2378),\n",
       " ('part', 2323),\n",
       " ('fri,', 2307),\n",
       " ('point', 2297),\n",
       " ('little', 2294),\n",
       " ('22', 2284),\n",
       " ('windows', 2265),\n",
       " ('>i', 2253),\n",
       " ('tue,', 2241),\n",
       " ('file', 2208),\n",
       " ('data', 2155),\n",
       " ('question', 2126),\n",
       " ('probably', 2112),\n",
       " ('years', 2106),\n",
       " ('different', 2100),\n",
       " ('available', 2095),\n",
       " ('(usenet', 2079),\n",
       " ('space', 2079),\n",
       " ('it,', 2073),\n",
       " ('around', 2072),\n",
       " ('long', 2053),\n",
       " ('tell', 2048),\n",
       " ('least', 2006),\n",
       " ('best', 1997),\n",
       " ('program', 1995),\n",
       " ('software', 1976),\n",
       " ('public', 1961),\n",
       " ('power', 1958),\n",
       " ('thu,', 1883),\n",
       " ('thing', 1875),\n",
       " ('drive', 1870),\n",
       " ('run', 1869),\n",
       " ('support', 1864),\n",
       " ('however,', 1826),\n",
       " (\"i'd\", 1825),\n",
       " ('18', 1804),\n",
       " ('rather', 1801),\n",
       " ('enough', 1792),\n",
       " ('case', 1791),\n",
       " ('hard', 1786),\n",
       " ('keep', 1770),\n",
       " ('fact', 1767),\n",
       " ('25', 1758),\n",
       " ('let', 1757),\n",
       " ('science', 1753),\n",
       " ('called', 1751),\n",
       " ('great', 1742),\n",
       " ('...', 1738),\n",
       " ('call', 1725),\n",
       " ('looking', 1709),\n",
       " ('mon,', 1690),\n",
       " ('found', 1683),\n",
       " ('real', 1676),\n",
       " ('nothing', 1671),\n",
       " ('26', 1661),\n",
       " ('quite', 1634)]"
      ]
     },
     "execution_count": 10,
     "metadata": {},
     "output_type": "execute_result"
    }
   ],
   "source": [
    "sorted_vocab[0:100]"
   ]
  },
  {
   "cell_type": "code",
   "execution_count": 11,
   "metadata": {},
   "outputs": [],
   "source": [
    "features_list = list(kvocab.keys())\n",
    "\n",
    "# Create a Dataframe containing features_list as columns \n",
    "df = pd.DataFrame(columns = features_list)\n",
    "\n",
    "# Filling the x_train values in dataframe \n",
    "\n",
    "for i in range(len(directory)):\n",
    "    #Create a list of files in the given dictionary \n",
    "    files = os.listdir('./20_newsgroups/' + directory[i])\n",
    " \n",
    "    for j in range(len(files)):\n",
    "        #Insert a row at the end of Dataframe with all zeros\n",
    "        df.loc[len(df)] = np.zeros(len(features_list))\n",
    "        \n",
    "        #Path of each file \n",
    "        path = './20_newsgroups/' + directory[i] + '/' + files[j]\n",
    "        \n",
    "        text = open(path, 'r', errors='ignore').read()\n",
    "        \n",
    "        \n",
    "        for word in text.split():\n",
    "            if word.lower() in features_list:\n",
    "                df[word.lower()][len(df)-1] += 1\n",
    "                \n",
    "\n",
    "# df.head()"
   ]
  },
  {
   "cell_type": "code",
   "execution_count": 12,
   "metadata": {},
   "outputs": [],
   "source": [
    "# Making the 2d array of x\n",
    "x = df.values\n",
    "\n",
    "# Feature list\n",
    "f_list = list(df)"
   ]
  },
  {
   "cell_type": "code",
   "execution_count": 13,
   "metadata": {},
   "outputs": [
    {
     "data": {
      "text/plain": [
       "(19997,)"
      ]
     },
     "execution_count": 13,
     "metadata": {},
     "output_type": "execute_result"
    }
   ],
   "source": [
    "# Creating  y array containing labels for classification \n",
    "\n",
    "y = []\n",
    "\n",
    "for i in range(len(directory)):\n",
    "    #Create a list of files in the given dictionary \n",
    "    files = os.listdir('./20_newsgroups/' + directory[i])\n",
    " \n",
    "    for j in range(len(files)):\n",
    "        y.append(i)\n",
    "\n",
    "y = np.array(y)\n",
    "y.shape"
   ]
  },
  {
   "cell_type": "code",
   "execution_count": 14,
   "metadata": {},
   "outputs": [],
   "source": [
    "# Splitting the whole dataset for training and testing\n",
    "from sklearn import model_selection\n",
    "x_train, x_test, y_train, y_test = model_selection.train_test_split(x, y, test_size = 0.25, random_state = 0)"
   ]
  },
  {
   "cell_type": "code",
   "execution_count": 15,
   "metadata": {},
   "outputs": [
    {
     "data": {
      "text/plain": [
       "(0.8772421150896846, 0.834)"
      ]
     },
     "execution_count": 15,
     "metadata": {},
     "output_type": "execute_result"
    }
   ],
   "source": [
    "from sklearn.naive_bayes import MultinomialNB\n",
    "clf = MultinomialNB()\n",
    "clf.fit(x_train, y_train)\n",
    "y_pred = clf.predict(x_test)\n",
    "\n",
    "train_score = clf.score(x_train, y_train)\n",
    "test_score = clf.score(x_test, y_test)\n",
    "\n",
    "train_score, test_score"
   ]
  },
  {
   "cell_type": "code",
   "execution_count": 16,
   "metadata": {},
   "outputs": [],
   "source": [
    "#implementing from scratch\n",
    "def fit(x_train, y_train):\n",
    "    \n",
    "    # dictionary containing the count of words\n",
    "    count = {}\n",
    "       \n",
    "    #set of all classes \n",
    "    set_class = set(y_train)\n",
    "            \n",
    "    for current_class in set_class:\n",
    "        count[current_class] = {}\n",
    "        count[\"total_data\"] = len(y_train)\n",
    "        \n",
    "        #Rows whose class is current_class\n",
    "        current_class_rows = (y_train == current_class)\n",
    "        \n",
    "        x_train_current = x_train[current_class_rows]\n",
    "        y_train_current = y_train[current_class_rows]\n",
    "        \n",
    "        sums = 0\n",
    "        for i in range(len(f_list)):\n",
    "            # For each class, calculating total frequency of a feature \n",
    "            count[current_class][f_list[i]] = x_train_current[:,i].sum()\n",
    "            sums = sums + count[current_class][f_list[i]]\n",
    "        \n",
    "        #Calculating total count of words of a class\n",
    "        count[current_class][\"total_count\"] = sums\n",
    "        \n",
    "    return count"
   ]
  },
  {
   "cell_type": "code",
   "execution_count": 17,
   "metadata": {},
   "outputs": [],
   "source": [
    "def probability(dictionary, row, current_class):\n",
    "    # class_prob = log of probability of the current class = log(no of documents having class as current_class)/ (total number of documents)\n",
    "    class_prob = np.log(dictionary[current_class][\"total_count\"]) - np.log(dictionary[\"total_data\"])\n",
    "    total_prob = class_prob\n",
    "    \n",
    "    \n",
    "    for i in range(len(row)):\n",
    "        #Numerator\n",
    "        word_count = dictionary[current_class][f_list[i]] + 1     \n",
    "        # Denominator\n",
    "        total_count = dictionary[current_class][\"total_count\"] + len(f_list)\n",
    "        #Add 1 to numerator and len(row) in denominator for laplace correction\n",
    "        \n",
    "        #Log Probabilty of a word \n",
    "        word_prob = np.log(word_count) - np.log(total_count)\n",
    "        \n",
    "        #Calculating probability frequency number of times\n",
    "        for j in range(int(row[i])):\n",
    "            total_prob += word_prob\n",
    "        \n",
    "    return total_prob"
   ]
  },
  {
   "cell_type": "code",
   "execution_count": 18,
   "metadata": {},
   "outputs": [],
   "source": [
    "def predictSinglePoint(row, dictionary):\n",
    "    classes = dictionary.keys()\n",
    "    \n",
    "    #Initialising best_prob and best_class as very low count\n",
    "    \n",
    "    best_prob = -1000\n",
    "    best_class = -1\n",
    "    first_iter = True\n",
    "    \n",
    "    for current_class in classes:\n",
    "        if(current_class == \"total_data\"):\n",
    "            continue\n",
    "        \n",
    "        #Calculating probabilty that the given row belong to current_class\n",
    "        prob_current_class = probability(dictionary, row, current_class)\n",
    "        \n",
    "        #For first iteration I set the best_prob to be the probabilty that row is of first class and best_class to be first class\n",
    "        #For rest iteration, I checked if the probabilty that row is of the current_class is greater than the best_prob then we update best_prob and best_class.\n",
    "        if(first_iter or prob_current_class > best_prob):\n",
    "            best_prob = prob_current_class\n",
    "            best_class = current_class\n",
    "        \n",
    "        first_iter = False\n",
    "    \n",
    "    # Return the best class which has maximum probabilty.\n",
    "    return best_class"
   ]
  },
  {
   "cell_type": "code",
   "execution_count": 19,
   "metadata": {},
   "outputs": [],
   "source": [
    "def predict(x_test, dictionary):\n",
    "    # Initialise a list which contain the predictions\n",
    "    y_pred_self = []\n",
    "    \n",
    "    #Iterate through each row in x_test\n",
    "    for j in range(len(x_test)):\n",
    "        \n",
    "        #Calculate the prediction of the class to which the row belong to.\n",
    "        pred_class = predictSinglePoint(x_test[j,:], dictionary) \n",
    "        \n",
    "        #Append the predicted class to our list\n",
    "        y_pred_self.append(pred_class)\n",
    "    \n",
    "    #Return the list of predictions\n",
    "    return y_pred_self"
   ]
  },
  {
   "cell_type": "code",
   "execution_count": 20,
   "metadata": {},
   "outputs": [],
   "source": [
    "#Training the model \n",
    "dictionary = fit(x_train, y_train)\n",
    "\n",
    "#Testing the model \n",
    "y_pred_self = predict(x_test, dictionary)"
   ]
  },
  {
   "cell_type": "code",
   "execution_count": 21,
   "metadata": {},
   "outputs": [
    {
     "name": "stdout",
     "output_type": "stream",
     "text": [
      "Accuracy for sklearn MultinomialNB() -  0.834\n",
      "Accuracy for self-implemented Naive Bayes -  0.8366\n"
     ]
    }
   ],
   "source": [
    "from sklearn.metrics import accuracy_score\n",
    "print(\"Accuracy for sklearn MultinomialNB() - \", test_score)\n",
    "print(\"Accuracy for self-implemented Naive Bayes - \", accuracy_score(y_test, y_pred_self))"
   ]
  },
  {
   "cell_type": "code",
   "execution_count": 22,
   "metadata": {},
   "outputs": [
    {
     "name": "stdout",
     "output_type": "stream",
     "text": [
      "Classification report for sklearn MultinomialNB()              precision    recall  f1-score   support\n",
      "\n",
      "          0       0.65      0.46      0.54       233\n",
      "          1       0.75      0.88      0.81       253\n",
      "          2       0.91      0.81      0.86       249\n",
      "          3       0.94      0.82      0.88       240\n",
      "          4       0.96      0.99      0.97       236\n",
      "          5       0.82      0.89      0.85       239\n",
      "          6       0.84      0.97      0.90       260\n",
      "          7       0.84      0.77      0.81       271\n",
      "          8       0.97      0.86      0.91       283\n",
      "          9       0.81      0.88      0.85       247\n",
      "         10       0.92      0.94      0.93       232\n",
      "         11       0.72      0.53      0.61       234\n",
      "         12       0.90      0.88      0.89       243\n",
      "         13       0.75      0.83      0.79       257\n",
      "         14       0.97      0.94      0.96       245\n",
      "         15       0.76      0.87      0.81       253\n",
      "         16       0.72      0.91      0.80       249\n",
      "         17       0.85      0.79      0.82       281\n",
      "         18       0.91      0.84      0.87       259\n",
      "         19       0.70      0.80      0.75       236\n",
      "\n",
      "avg / total       0.84      0.83      0.83      5000\n",
      "\n",
      "Classification report for self-implemented Naive Bayes               precision    recall  f1-score   support\n",
      "\n",
      "          0       0.65      0.47      0.54       233\n",
      "          1       0.76      0.88      0.81       253\n",
      "          2       0.91      0.82      0.86       249\n",
      "          3       0.94      0.82      0.88       240\n",
      "          4       0.96      0.99      0.97       236\n",
      "          5       0.84      0.89      0.87       239\n",
      "          6       0.84      0.97      0.90       260\n",
      "          7       0.84      0.79      0.81       271\n",
      "          8       0.97      0.86      0.91       283\n",
      "          9       0.82      0.88      0.85       247\n",
      "         10       0.92      0.94      0.93       232\n",
      "         11       0.71      0.54      0.62       234\n",
      "         12       0.89      0.88      0.89       243\n",
      "         13       0.76      0.83      0.79       257\n",
      "         14       0.97      0.94      0.96       245\n",
      "         15       0.76      0.87      0.81       253\n",
      "         16       0.73      0.90      0.81       249\n",
      "         17       0.85      0.79      0.82       281\n",
      "         18       0.91      0.85      0.88       259\n",
      "         19       0.70      0.80      0.75       236\n",
      "\n",
      "avg / total       0.84      0.84      0.83      5000\n",
      "\n"
     ]
    }
   ],
   "source": [
    "#classification report of both the algorithms \n",
    "from sklearn.metrics import classification_report\n",
    "print(\"Classification report for sklearn MultinomialNB()\",classification_report(y_test, y_pred))\n",
    "print(\"Classification report for self-implemented Naive Bayes \",classification_report(y_test, y_pred_self))"
   ]
  },
  {
   "cell_type": "code",
   "execution_count": null,
   "metadata": {},
   "outputs": [],
   "source": []
  }
 ],
 "metadata": {
  "kernelspec": {
   "display_name": "Python 3",
   "language": "python",
   "name": "python3"
  },
  "language_info": {
   "codemirror_mode": {
    "name": "ipython",
    "version": 3
   },
   "file_extension": ".py",
   "mimetype": "text/x-python",
   "name": "python",
   "nbconvert_exporter": "python",
   "pygments_lexer": "ipython3",
   "version": "3.6.6"
  }
 },
 "nbformat": 4,
 "nbformat_minor": 2
}
